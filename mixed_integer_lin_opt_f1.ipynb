{
 "cells": [
  {
   "cell_type": "code",
   "execution_count": 1,
   "id": "80dc3b0b-48da-499d-944f-f961858a681b",
   "metadata": {},
   "outputs": [],
   "source": [
    "import gurobipy as gp\n",
    "from gurobipy import GRB\n",
    "import pprint"
   ]
  },
  {
   "cell_type": "code",
   "execution_count": 2,
   "id": "23eed2ca-34b3-4f17-a4aa-44074639695c",
   "metadata": {},
   "outputs": [],
   "source": [
    "driver_data_france = {\n",
    "    \"VER\": {\"cost\": 30.5, \"practise_position\": 1, \"team\": \"REDB\"},\n",
    "    \"HAM\": {\"cost\": 39.1, \"practise_position\": 4, \"team\": \"MERC\"},\n",
    "    \"RUS\": {\"cost\": 24.4, \"practise_position\": 6, \"team\": \"MERC\"},\n",
    "    \"LEC\": {\"cost\": 18.8, \"practise_position\": 3, \"team\": \"FERR\"},\n",
    "    \"PER\": {\"cost\": 18.3, \"practise_position\": 5, \"team\": \"REBB\"},\n",
    "    \"SAI\": {\"cost\": 17.3, \"practise_position\": 2, \"team\": \"FERR\"},    \n",
    "    \"NOR\": {\"cost\": 15.9, \"practise_position\": 9, \"team\": \"MCLA\"},\n",
    "    \"RIC\": {\"cost\": 13.5, \"practise_position\": 11, \"team\": \"MCLA\"},\n",
    "    \"GAS\": {\"cost\": 12.9, \"practise_position\": 13, \"team\": \"ATRB\"},\n",
    "    \"ALO\": {\"cost\": 12.6, \"practise_position\": 7, \"team\": \"ALPI\"},\n",
    "    \"OCO\": {\"cost\": 12.3, \"practise_position\": 17, \"team\": \"ALPI\"},\n",
    "    \"VET\": {\"cost\": 11.4, \"practise_position\": 20, \"team\": \"ASTM\"},    \n",
    "    \"BOT\": {\"cost\": 9.6, \"practise_position\": 14, \"team\": \"ALFA\"},\n",
    "    \"STR\": {\"cost\": 9.2, \"practise_position\": 18, \"team\": \"ASTM\"},\n",
    "    \"TSU\": {\"cost\": 8.3, \"practise_position\": 10, \"team\": \"ATRB\"},\n",
    "    \"GUA\": {\"cost\": 8.2, \"practise_position\": 15, \"team\": \"ALFA\"},\n",
    "    \"ALB\": {\"cost\": 7.5, \"practise_position\": 8, \"team\": \"WILL\"},    \n",
    "    \"LAT\": {\"cost\": 6.7, \"practise_position\": 12, \"team\": \"WILL\"},\n",
    "    \"SCH\": {\"cost\": 6.3, \"practise_position\": 19, \"team\": \"HAAS\"},\n",
    "    \"MAG\": {\"cost\": 6.1, \"practise_position\": 16, \"team\": \"HAAS\"}\n",
    "}\n",
    "\n",
    "driver_data_hungary_practise2 = {\n",
    "    \"VER\": {\"cost\": 30.4, \"practise_position\": 4, \"team\": \"REDB\"},\n",
    "    \"HAM\": {\"cost\": 30.1, \"practise_position\": 11, \"team\": \"MERC\"},\n",
    "    \"RUS\": {\"cost\": 24.0, \"practise_position\": 8, \"team\": \"MERC\"},\n",
    "    \"LEC\": {\"cost\": 18.8, \"practise_position\": 1, \"team\": \"FERR\"},\n",
    "    \"PER\": {\"cost\": 18.2, \"practise_position\": 9, \"team\": \"REBB\"},\n",
    "    \"SAI\": {\"cost\": 17.2, \"practise_position\": 3, \"team\": \"FERR\"},    \n",
    "    \"NOR\": {\"cost\": 15.9, \"practise_position\": 2, \"team\": \"MCLA\"},\n",
    "    \"RIC\": {\"cost\": 14.0, \"practise_position\": 5, \"team\": \"MCLA\"},\n",
    "    \"GAS\": {\"cost\": 12.9, \"practise_position\": 15, \"team\": \"ATRB\"},\n",
    "    \"ALO\": {\"cost\": 12.6, \"practise_position\": 6, \"team\": \"ALPI\"},\n",
    "    \"OCO\": {\"cost\": 12.3, \"practise_position\": 13, \"team\": \"ALPI\"},\n",
    "    \"VET\": {\"cost\": 11.4, \"practise_position\": 7, \"team\": \"ASTM\"},    \n",
    "    \"BOT\": {\"cost\": 9.6, \"practise_position\": 10, \"team\": \"ALFA\"},\n",
    "    \"STR\": {\"cost\": 9.2, \"practise_position\": 14, \"team\": \"ASTM\"},\n",
    "    \"TSU\": {\"cost\": 8.3, \"practise_position\": 19, \"team\": \"ATRB\"},\n",
    "    \"GUA\": {\"cost\": 8.2, \"practise_position\": 12, \"team\": \"ALFA\"},\n",
    "    \"ALB\": {\"cost\": 7.6, \"practise_position\": 20, \"team\": \"WILL\"},    \n",
    "    \"LAT\": {\"cost\": 6.7, \"practise_position\": 12, \"team\": \"WILL\"},\n",
    "    \"SCH\": {\"cost\": 6.3, \"practise_position\": 17, \"team\": \"HAAS\"},\n",
    "    \"MAG\": {\"cost\": 6.1, \"practise_position\": 16, \"team\": \"HAAS\"}\n",
    "}\n",
    "\n",
    "driver_data = driver_data_hungary_practise2"
   ]
  },
  {
   "cell_type": "code",
   "execution_count": 3,
   "id": "0019c6c3-3878-4b13-892e-17526884e07a",
   "metadata": {},
   "outputs": [],
   "source": [
    "# Driver scores\n",
    "race_scores = {1: 25, 2: 18, 3: 15, 4: 12, 5: 10, 6: 8, 7: 7, 8: 4, 9: 2, 10: 1}\n",
    "quali_scores = {1: 10, 2: 9, 3: 8, 4: 7, 5: 6, 6: 5, 7: 4, 8: 3, 9: 2, 10: 1}\n",
    "positional_bonus_scores = {1: 5}\n",
    "for driver in driver_data:\n",
    "    data = driver_data[driver]\n",
    "    pos = data[\"practise_position\"]\n",
    "    if pos > 20:\n",
    "        continue\n",
    "    data[\"score\"] = 1 # Classified for quali 1pts\n",
    "\n",
    "    # position score\n",
    "    data[\"score\"] += race_scores.get(pos, 0) \n",
    "    data[\"score\"] += quali_scores.get(pos, 0) \n",
    "    data[\"score\"] += positional_bonus_scores.get(pos, 0) \n",
    "    data[\"score\"] += 1 # Finish Q1\n",
    "    if pos <= 15: # Finish Q2\n",
    "        data[\"score\"] += 2 \n",
    "    if pos <= 10: # Finish Q3\n",
    "        data[\"score\"] += 3\n",
    "\n",
    "    # Beat teammate 5pts (3 from quali, 2 from race)\n",
    "    for other_driver, other_driver_data in driver_data.items():\n",
    "        if other_driver_data[\"team\"] == data[\"team\"] and other_driver != driver:\n",
    "            if pos < other_driver_data[\"practise_position\"]:\n",
    "                data[\"score\"] += 5\n",
    "    \n",
    "    data[\"turbo_score\"] = 2 * data[\"score\"]"
   ]
  },
  {
   "cell_type": "code",
   "execution_count": 16,
   "id": "e5aca03f-3255-4819-807c-c3872042e7bf",
   "metadata": {},
   "outputs": [
    {
     "name": "stdout",
     "output_type": "stream",
     "text": [
      "26.0\n",
      "26.0\n"
     ]
    }
   ],
   "source": [
    "# Manual score-increase, change scaler if wanted\n",
    "driver = \"VER\"\n",
    "scaler = 1.0\n",
    "print(driver_data[driver][\"score\"])\n",
    "driver_data[driver][\"score\"] *= scaler\n",
    "print(driver_data[driver][\"score\"])"
   ]
  },
  {
   "cell_type": "code",
   "execution_count": 5,
   "id": "529f9ca6-c9f7-4b0e-9dfd-716276dd27ef",
   "metadata": {},
   "outputs": [],
   "source": [
    "team_data = {\n",
    "    \"REDB\": {\"cost\": 32.6}, \n",
    "    \"MERC\": {\"cost\": 33.7}, \n",
    "    \"FERR\": {\"cost\": 25.8}, \n",
    "    \"MCLA\": {\"cost\": 17.5}, \n",
    "    \"ATRB\": {\"cost\": 10.1}, \n",
    "    \"ALPI\": {\"cost\": 14.0}, \n",
    "    \"ALFA\": {\"cost\": 8.5}, \n",
    "    \"ASTM\": {\"cost\": 11.0}, \n",
    "    \"WILL\": {\"cost\": 6.5}, \n",
    "    \"HAAS\": {\"cost\": 6.4}}\n",
    "\n",
    "for team in team_data:\n",
    "    for driver, data in driver_data.items():\n",
    "        if data[\"team\"] == team:\n",
    "            team_data[team][\"score\"] = team_data[team].get(\"score\", 0) + driver_data[driver][\"score\"]\n",
    "            team_data[team][\"turbo_score\"] = 0.0"
   ]
  },
  {
   "cell_type": "code",
   "execution_count": 15,
   "id": "08fd6e2e-11b8-4120-b367-5d49f78859b8",
   "metadata": {},
   "outputs": [
    {
     "name": "stdout",
     "output_type": "stream",
     "text": [
      "VER {'cost': 30.4, 'practise_position': 4, 'team': 'REDB', 'score': 26.0, 'turbo_score': 52}\n",
      "HAM {'cost': 30.1, 'practise_position': 11, 'team': 'MERC', 'score': 4, 'turbo_score': 8}\n",
      "RUS {'cost': 24.0, 'practise_position': 8, 'team': 'MERC', 'score': 19, 'turbo_score': 38}\n",
      "LEC {'cost': 18.8, 'practise_position': 1, 'team': 'FERR', 'score': 52, 'turbo_score': 104}\n",
      "PER {'cost': 18.2, 'practise_position': 9, 'team': 'REBB', 'score': 11, 'turbo_score': 22}\n",
      "SAI {'cost': 17.2, 'practise_position': 3, 'team': 'FERR', 'score': 30, 'turbo_score': 60}\n",
      "NOR {'cost': 15.9, 'practise_position': 2, 'team': 'MCLA', 'score': 39, 'turbo_score': 78}\n",
      "RIC {'cost': 14.0, 'practise_position': 5, 'team': 'MCLA', 'score': 23, 'turbo_score': 46}\n",
      "GAS {'cost': 12.9, 'practise_position': 15, 'team': 'ATRB', 'score': 9, 'turbo_score': 18}\n",
      "ALO {'cost': 12.6, 'practise_position': 6, 'team': 'ALPI', 'score': 25, 'turbo_score': 50}\n",
      "OCO {'cost': 12.3, 'practise_position': 13, 'team': 'ALPI', 'score': 4, 'turbo_score': 8}\n",
      "VET {'cost': 11.4, 'practise_position': 7, 'team': 'ASTM', 'score': 23, 'turbo_score': 46}\n",
      "BOT {'cost': 9.6, 'practise_position': 10, 'team': 'ALFA', 'score': 14, 'turbo_score': 28}\n",
      "STR {'cost': 9.2, 'practise_position': 14, 'team': 'ASTM', 'score': 4, 'turbo_score': 8}\n",
      "TSU {'cost': 8.3, 'practise_position': 19, 'team': 'ATRB', 'score': 2, 'turbo_score': 4}\n",
      "GUA {'cost': 8.2, 'practise_position': 12, 'team': 'ALFA', 'score': 4, 'turbo_score': 8}\n",
      "ALB {'cost': 7.6, 'practise_position': 20, 'team': 'WILL', 'score': 2, 'turbo_score': 4}\n",
      "LAT {'cost': 6.7, 'practise_position': 12, 'team': 'WILL', 'score': 9, 'turbo_score': 18}\n",
      "SCH {'cost': 6.3, 'practise_position': 17, 'team': 'HAAS', 'score': 2, 'turbo_score': 4}\n",
      "MAG {'cost': 6.1, 'practise_position': 16, 'team': 'HAAS', 'score': 7, 'turbo_score': 14}\n",
      "REDB {'cost': 32.6, 'score': 26.0, 'turbo_score': 0.0}\n",
      "MERC {'cost': 33.7, 'score': 23, 'turbo_score': 0.0}\n",
      "FERR {'cost': 25.8, 'score': 82, 'turbo_score': 0.0}\n",
      "MCLA {'cost': 17.5, 'score': 62, 'turbo_score': 0.0}\n",
      "ATRB {'cost': 10.1, 'score': 11, 'turbo_score': 0.0}\n",
      "ALPI {'cost': 14.0, 'score': 29, 'turbo_score': 0.0}\n",
      "ALFA {'cost': 8.5, 'score': 18, 'turbo_score': 0.0}\n",
      "ASTM {'cost': 11.0, 'score': 27, 'turbo_score': 0.0}\n",
      "WILL {'cost': 6.5, 'score': 11, 'turbo_score': 0.0}\n",
      "HAAS {'cost': 6.4, 'score': 9, 'turbo_score': 0.0}\n"
     ]
    }
   ],
   "source": [
    "bank = 100.0 # M€\n",
    "driver_and_team_data = driver_data | team_data\n",
    "drivers = list(driver_data.keys())\n",
    "teams = list(team_data.keys())\n",
    "drivers_and_teams = list(driver_and_team_data.keys())\n",
    "model_dict = {(driver): [driver_and_team_data[driver][\"cost\"], driver_and_team_data[driver][\"score\"]] for driver in driver_and_team_data}\n",
    "\n",
    "for a in driver_and_team_data:\n",
    "    print(a, driver_and_team_data[a])"
   ]
  },
  {
   "cell_type": "code",
   "execution_count": 7,
   "id": "66245fa6-8ad8-4094-a90d-39b922b4545f",
   "metadata": {},
   "outputs": [
    {
     "name": "stdout",
     "output_type": "stream",
     "text": [
      "Restricted license - for non-production use only - expires 2023-10-25\n"
     ]
    }
   ],
   "source": [
    "combinations, cost, scores = gp.multidict(model_dict)\n",
    "m = gp.Model('RAP')"
   ]
  },
  {
   "cell_type": "code",
   "execution_count": 8,
   "id": "7aa8fb68-cfdc-4134-b567-944e80bee567",
   "metadata": {},
   "outputs": [],
   "source": [
    "# Create decision variables for the RAP model\n",
    "x = m.addVars(combinations, vtype=GRB.BINARY, name=\"assign\")\n",
    "\n",
    "g = m.addVars(drivers_and_teams, name=\"gap\")\n",
    "g_d = m.addVars(drivers, name=\"driver_gap\")\n",
    "g_t = m.addVars(teams, name=\"team_gap\")"
   ]
  },
  {
   "cell_type": "code",
   "execution_count": 9,
   "id": "8fb225aa-de68-432b-8211-9b29f16581ff",
   "metadata": {},
   "outputs": [],
   "source": [
    "# Create job constraints with gap variable\n",
    "# Gap variable allowes a driver to not be chosen, at no cost, by setting gap[j] = 1\n",
    "general_gap = m.addConstrs((x.sum(r, '*') + g[r]  == 1 for r in drivers_and_teams), name='picks')\n",
    "driver_gap = m.addConstrs((x.sum(d, '*') + g_d[d]  == 1 for d in drivers), name='picks')\n",
    "team_gap = m.addConstrs((x.sum(t, '*') + g_t[t]  == 1 for t in teams), name='picks')\n",
    "\n",
    "# x.sum(.-.) means sum of the choices. Chosen = 1, not chosen = 0. \n",
    "total_picks = m.addConstrs((g.sum('*', '*') >= len(drivers_and_teams) - 6 for r in drivers_and_teams), name='total_picks')\n",
    "driver_picks = m.addConstrs((g_d.sum('*', '*') >= len(drivers) - 5 for d in drivers), name='driver_picks')\n",
    "team_picks = m.addConstrs((g_t.sum('*', '*') >= len(teams) - 1 for t in teams), name='team_picks')"
   ]
  },
  {
   "cell_type": "code",
   "execution_count": 10,
   "id": "77c73705-9a01-4df6-a67b-d2933e8f3676",
   "metadata": {},
   "outputs": [],
   "source": [
    "budget = m.addConstr((x.prod(cost) <= bank), name='budget')\n",
    "m.setObjective(x.prod(scores), GRB.MAXIMIZE)"
   ]
  },
  {
   "cell_type": "code",
   "execution_count": 11,
   "id": "f33fc62c-cc67-4af4-8bb1-78f0b04b03eb",
   "metadata": {},
   "outputs": [
    {
     "name": "stdout",
     "output_type": "stream",
     "text": [
      "Warning: linear constraint 0 and linear constraint 30 have the same name \"picks[VER]\"\n",
      "Gurobi Optimizer version 9.5.2 build v9.5.2rc0 (win64)\n",
      "Thread count: 6 physical cores, 12 logical processors, using up to 12 threads\n",
      "Optimize a model with 121 rows, 90 columns and 1550 nonzeros\n",
      "Model fingerprint: 0xda42114c\n",
      "Variable types: 60 continuous, 30 integer (30 binary)\n",
      "Coefficient statistics:\n",
      "  Matrix range     [1e+00, 3e+01]\n",
      "  Objective range  [2e+00, 8e+01]\n",
      "  Bounds range     [1e+00, 1e+00]\n",
      "  RHS range        [1e+00, 1e+02]\n",
      "Found heuristic solution: objective 86.0000000\n",
      "Presolve removed 117 rows and 63 columns\n",
      "Presolve time: 0.00s\n",
      "Presolved: 4 rows, 27 columns, 81 nonzeros\n",
      "Variable types: 0 continuous, 27 integer (27 binary)\n",
      "Found heuristic solution: objective 244.0000000\n",
      "\n",
      "Root relaxation: objective 2.480349e+02, 5 iterations, 0.00 seconds (0.00 work units)\n",
      "\n",
      "    Nodes    |    Current Node    |     Objective Bounds      |     Work\n",
      " Expl Unexpl |  Obj  Depth IntInf | Incumbent    BestBd   Gap | It/Node Time\n",
      "\n",
      "     0     0  248.03488    0    1  244.00000  248.03488  1.65%     -    0s\n",
      "     0     0  245.63043    0    2  244.00000  245.63043  0.67%     -    0s\n",
      "\n",
      "Cutting planes:\n",
      "  Cover: 1\n",
      "\n",
      "Explored 1 nodes (7 simplex iterations) in 0.01 seconds (0.00 work units)\n",
      "Thread count was 12 (of 12 available processors)\n",
      "\n",
      "Solution count 2: 244 86 \n",
      "\n",
      "Optimal solution found (tolerance 1.00e-04)\n",
      "Best objective 2.440000000000e+02, best bound 2.440000000000e+02, gap 0.0000%\n"
     ]
    }
   ],
   "source": [
    "m.write('RAP.lp')\n",
    "m.optimize()"
   ]
  },
  {
   "cell_type": "code",
   "execution_count": 14,
   "id": "40088213-84a5-4d52-9e27-8965ef173cbd",
   "metadata": {},
   "outputs": [
    {
     "name": "stdout",
     "output_type": "stream",
     "text": [
      "assign[LEC] 1.0\n",
      "assign[NOR] 1.0\n",
      "assign[RIC] 1.0\n",
      "assign[ALO] 1.0\n",
      "assign[VET] 1.0\n",
      "assign[FERR] 1.0\n",
      "Turbo driver on LEC\n",
      "Expected score: 270.0\n",
      "Total cost: 98.5\n"
     ]
    }
   ],
   "source": [
    "# Display optimal values of decision variables\n",
    "tot_cost = 0.0\n",
    "turboscore = 0.0\n",
    "\n",
    "for v in m.getVars():\n",
    "    if v.x > 1e-6 and v.varName[0:3] == \"ass\":\n",
    "        print(v.varName, v.x)\n",
    "        driver_name = v.varName.replace(\"assign[\", \"\").replace(\"]\", \"\")\n",
    "        cost = driver_and_team_data[driver_name][\"cost\"]\n",
    "        tot_cost += cost\n",
    "        \n",
    "        if len(driver_name) == 3 and cost < 20:\n",
    "            score = driver_and_team_data[driver_name][\"score\"]\n",
    "            if score > turboscore:\n",
    "                turboscore = score\n",
    "                turbo_name = driver_name\n",
    "            \n",
    "# Display optimal total matching score\n",
    "print(\"Turbo driver on\", turbo_name)\n",
    "print('Expected score:', m.objVal + turboscore/2)\n",
    "print(\"Total cost:\", tot_cost)"
   ]
  },
  {
   "cell_type": "code",
   "execution_count": 308,
   "id": "f68b904f-0b4d-40a7-8c7f-9903af964c93",
   "metadata": {},
   "outputs": [],
   "source": [
    "# Create gap variables for the RAP model\n",
    "#g_d_t = m.addVars(drivers_and_teams, name=\"gap_t_d\")"
   ]
  },
  {
   "cell_type": "code",
   "execution_count": 309,
   "id": "bd10bc34-cc74-4201-844b-db3e9ffd5b4f",
   "metadata": {},
   "outputs": [],
   "source": [
    "# Create job constraints with gap variable\n",
    "# Gap variable allowes a driver to not be chosen, at no cost, by setting g[j] = 1\n",
    "#picks = m.addConstrs((x.sum(r, '*') + g[r]  == 1 for r in drivers_and_teams), name='picks')\n",
    "\n",
    "# x.sum(.-.) means sum of the choices. Chosen = 1, not chosen = 0. \n",
    "\n",
    "#total_picks = m.addConstrs((g_d_t.sum('*', '*') >= len(drivers_and_teams) - 6 for r in drivers_and_teams), name='total_picks')\n",
    "\n",
    "#nr_of_drivers = m.addConstrs((g_d.sum('*', d) >= 15 for d in drivers), name='nr_of_drivers')\n",
    "#nr_of_teams = m.addConstrs((g.sum('*', t) >= 9 for t in teams), name='nr_of_teams')"
   ]
  },
  {
   "cell_type": "code",
   "execution_count": 311,
   "id": "619c711b-5772-4696-87a9-a486c1195cf5",
   "metadata": {},
   "outputs": [],
   "source": [
    "#driver_pick = m.addConstrs((x.sum(d, '*') + g_d[d] == 1 for d in drivers), name='driver_pick')\n",
    "#total_driver_picks = m.addConstrs((g_d.sum('*', '*') >= len(drivers) - 4 for d in drivers), name='total_driver_picks')\n",
    "\n",
    "#team_pick = m.addConstrs((x.sum(t, '*') + g_t[t]  == 1 for t in teams), name='team_pick')\n",
    "#total_team_picks = m.addConstrs((g_t.sum('*', '*') >= len(teams) - 1 for t in teams), name='total_team_picks')\n",
    "\n",
    "#turbo_pick = m.addConstrs((x_turbo.sum(td, '*') + g_turbo[td]  == 1 for td in drivers), name='turbo_pick')\n",
    "#total_turbo_drivers = m.addConstrs((g_turbo.sum('*', '*') >= len(drivers) - 1 for d in drivers), name='total_turbo_drivers')\n",
    "#total_turbo_teams = m.addConstrs((g_turbo.sum('*', '*') >= len(teams) for t in teams), name='total_turbo_teams')\n",
    "\n",
    "#nr_of_drivers = m.addConstrs((g_d.sum('*', d) >= 15 for d in drivers), name='nr_of_drivers')\n",
    "#nr_of_teams = m.addConstrs((g_d.sum('*', t) >= 9 for t in teams), name='nr_of_teams')\n",
    "\n",
    "#budget = m.addConstr((x.prod(cost) <= bank), name='budget')"
   ]
  },
  {
   "cell_type": "code",
   "execution_count": null,
   "id": "c0a0976e-1dba-493d-a186-a6d5d6424769",
   "metadata": {},
   "outputs": [],
   "source": []
  }
 ],
 "metadata": {
  "kernelspec": {
   "display_name": "Python 3 (ipykernel)",
   "language": "python",
   "name": "python3"
  },
  "language_info": {
   "codemirror_mode": {
    "name": "ipython",
    "version": 3
   },
   "file_extension": ".py",
   "mimetype": "text/x-python",
   "name": "python",
   "nbconvert_exporter": "python",
   "pygments_lexer": "ipython3",
   "version": "3.9.12"
  }
 },
 "nbformat": 4,
 "nbformat_minor": 5
}
